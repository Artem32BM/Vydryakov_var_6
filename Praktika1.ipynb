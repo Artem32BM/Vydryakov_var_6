{
 "cells": [
  {
   "cell_type": "markdown",
   "metadata": {},
   "source": [
    "## **Практика** "
   ]
  },
  {
   "cell_type": "code",
   "execution_count": 26,
   "metadata": {},
   "outputs": [],
   "source": [
    "import numpy as np\n",
    "import math\n",
    "import matplotlib.pyplot as plt\n",
    "import pandas as pd"
   ]
  },
  {
   "cell_type": "code",
   "execution_count": 27,
   "metadata": {},
   "outputs": [
    {
     "name": "stdout",
     "output_type": "stream",
     "text": [
      "-3.4923929579930006e-14\n",
      "10\n"
     ]
    }
   ],
   "source": [
    "refer = math.sqrt(2/math.pi)\n",
    "def fact(n):\n",
    "    f=1\n",
    "    for i in range(2, n+1):\n",
    "        f=f*i\n",
    "    return f\n",
    "x = math.sqrt(math.pi/2)\n",
    "coef = []\n",
    "sum = 1\n",
    "n = 0\n",
    "while abs(sum) >= 1e-12:\n",
    "    sum = (-1)**n*x**(4*n+1)/fact(2*n+1)\n",
    "    coef.append(sum)\n",
    "    n+=1\n",
    "print(sum)\n",
    "print(n)"
   ]
  },
  {
   "cell_type": "code",
   "execution_count": 28,
   "metadata": {},
   "outputs": [
    {
     "name": "stdout",
     "output_type": "stream",
     "text": [
      "0.7978845608028651 -3.3306690738754696e-16\n"
     ]
    }
   ],
   "source": [
    "refer = math.sqrt(2/math.pi)\n",
    "sm1= 0\n",
    "for i in range(n):\n",
    "    sm1+=coef[i]\n",
    "print(sm1, sm1-refer)"
   ]
  },
  {
   "cell_type": "code",
   "execution_count": 29,
   "metadata": {},
   "outputs": [
    {
     "name": "stdout",
     "output_type": "stream",
     "text": [
      "0.7978845608028651 -3.3306690738754696e-16\n"
     ]
    }
   ],
   "source": [
    "coef.sort()\n",
    "sm2=0\n",
    "for i in range(n):\n",
    "    sm2+=coef[i]\n",
    "print(sm2, sm2-refer)"
   ]
  },
  {
   "cell_type": "code",
   "execution_count": 30,
   "metadata": {},
   "outputs": [
    {
     "name": "stdout",
     "output_type": "stream",
     "text": [
      "0.7978845608028652 -2.220446049250313e-16\n"
     ]
    }
   ],
   "source": [
    "kahan_sum = 0\n",
    "c=0\n",
    "for i in range(n):\n",
    "    y = coef[i]-c\n",
    "    t = kahan_sum + y\n",
    "    z = t - kahan_sum\n",
    "    c = z - y\n",
    "    kahan_sum = t\n",
    "print(kahan_sum, kahan_sum-refer)"
   ]
  },
  {
   "cell_type": "code",
   "execution_count": 32,
   "metadata": {},
   "outputs": [
    {
     "name": "stdout",
     "output_type": "stream",
     "text": [
      "3.177152795040676e-13\n",
      "43\n"
     ]
    }
   ],
   "source": [
    "refer2=-math.sqrt(2/(15*math.pi))\n",
    "x1 = math.sqrt((15*math.pi)/2)\n",
    "coef1 = []\n",
    "summ = 1\n",
    "n1 = 0\n",
    "while abs(summ) >= 1e-12:\n",
    "    summ = (-1)**n1*x1**(4*n1+1)/fact(2*n1+1)\n",
    "    coef1.append(summ)\n",
    "    n1+=1\n",
    "print(summ)\n",
    "print(n1)"
   ]
  },
  {
   "cell_type": "code",
   "execution_count": 33,
   "metadata": {},
   "outputs": [
    {
     "name": "stdout",
     "output_type": "stream",
     "text": [
      "-0.20601290964647775 -1.900776619434552e-09\n"
     ]
    }
   ],
   "source": [
    "sm1 = 0\n",
    "for i in range(n1):\n",
    "    sm1+=coef1[i]\n",
    "print(sm1, sm1-refer2)"
   ]
  },
  {
   "cell_type": "code",
   "execution_count": 34,
   "metadata": {},
   "outputs": [
    {
     "name": "stdout",
     "output_type": "stream",
     "text": [
      "-0.206013023853302 -1.1610760086711025e-07\n"
     ]
    }
   ],
   "source": [
    "coef1.sort()\n",
    "sm2 = 0\n",
    "for i in range(n1):\n",
    "    sm2+=coef1[i]\n",
    "print(sm2, sm2-refer2)"
   ]
  },
  {
   "cell_type": "code",
   "execution_count": 35,
   "metadata": {},
   "outputs": [
    {
     "name": "stdout",
     "output_type": "stream",
     "text": [
      "-0.20601290464401245 3.101688683671e-09\n"
     ]
    }
   ],
   "source": [
    "kahan_sum1 = 0\n",
    "c1 = 0\n",
    "for i in range(n1):\n",
    "    y1 = coef1[i]-c1\n",
    "    t1 = kahan_sum1 + y1\n",
    "    z1 = t1 - kahan_sum1\n",
    "    c1 = z1 - y1\n",
    "    kahan_sum1 = t1\n",
    "print(kahan_sum1, kahan_sum1-refer2)"
   ]
  }
 ],
 "metadata": {
  "kernelspec": {
   "display_name": "Python 3",
   "language": "python",
   "name": "python3"
  },
  "language_info": {
   "codemirror_mode": {
    "name": "ipython",
    "version": 3
   },
   "file_extension": ".py",
   "mimetype": "text/x-python",
   "name": "python",
   "nbconvert_exporter": "python",
   "pygments_lexer": "ipython3",
   "version": "3.10.11"
  }
 },
 "nbformat": 4,
 "nbformat_minor": 2
}
